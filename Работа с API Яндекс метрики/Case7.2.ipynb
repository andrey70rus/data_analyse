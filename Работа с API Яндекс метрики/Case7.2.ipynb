{
 "cells": [
  {
   "cell_type": "code",
   "execution_count": 1,
   "metadata": {},
   "outputs": [],
   "source": [
    "token = 'AgAAAAAUU2fzAAZCUgs9ZOhQbUPRhhNcMVv4HA4'\n",
    "headers = {'Authorization': 'OAuth ' + token}\n",
    "params = {'metrics': 'ym:s:visits', \n",
    "          'dimensions': 'ym:s:lastsignTrafficSource,ym:s:isRobot,ym:s:hour',  \n",
    "          'date1': '2016-01-01',  \n",
    "          'date2': '2019-07-01',     \n",
    "          'ids': 30177909,\n",
    "          'accuracy':'full',\n",
    "         'limit':100000}"
   ]
  },
  {
   "cell_type": "code",
   "execution_count": 33,
   "metadata": {},
   "outputs": [],
   "source": [
    "import json \n",
    "import requests\n",
    "from pprint import pprint\n",
    "import pandas as pd\n",
    "from datetime import timedelta\n",
    "import matplotlib.pyplot as plt\n",
    "import matplotlib.ticker as ticker"
   ]
  },
  {
   "cell_type": "code",
   "execution_count": 3,
   "metadata": {},
   "outputs": [
    {
     "name": "stdout",
     "output_type": "stream",
     "text": [
      "200\n",
      "dict_keys(['query', 'data', 'total_rows', 'total_rows_rounded', 'sampled', 'sample_share', 'sample_size', 'sample_space', 'data_lag', 'totals', 'min', 'max'])\n"
     ]
    }
   ],
   "source": [
    "response = requests.get('https://api-metrika.yandex.net/stat/v1/data', params=params, headers=headers)\n",
    "print (response.status_code)\n",
    "metrika_data = response.json()\n",
    "print(metrika_data.keys())"
   ]
  },
  {
   "cell_type": "code",
   "execution_count": 4,
   "metadata": {},
   "outputs": [
    {
     "name": "stdout",
     "output_type": "stream",
     "text": [
      "236\n"
     ]
    }
   ],
   "source": [
    "print(metrika_data['total_rows'])"
   ]
  },
  {
   "cell_type": "code",
   "execution_count": 5,
   "metadata": {},
   "outputs": [
    {
     "name": "stdout",
     "output_type": "stream",
     "text": [
      "[{'dimensions': [{'icon_id': '2',\n",
      "                  'icon_type': 'traffic-source',\n",
      "                  'id': 'organic',\n",
      "                  'name': 'Search engine traffic'},\n",
      "                 {'id': 'no', 'name': 'People'},\n",
      "                 {'id': '15', 'name': '15:00'}],\n",
      "  'metrics': [3959.0]},\n",
      " {'dimensions': [{'icon_id': '2',\n",
      "                  'icon_type': 'traffic-source',\n",
      "                  'id': 'organic',\n",
      "                  'name': 'Search engine traffic'},\n",
      "                 {'id': 'no', 'name': 'People'},\n",
      "                 {'id': '16', 'name': '16:00'}],\n",
      "  'metrics': [3902.0]},\n",
      " {'dimensions': [{'icon_id': '2',\n",
      "                  'icon_type': 'traffic-source',\n",
      "                  'id': 'organic',\n",
      "                  'name': 'Search engine traffic'},\n",
      "                 {'id': 'no', 'name': 'People'},\n",
      "                 {'id': '14', 'name': '14:00'}],\n",
      "  'metrics': [3767.0]},\n",
      " {'dimensions': [{'icon_id': '2',\n",
      "                  'icon_type': 'traffic-source',\n",
      "                  'id': 'organic',\n",
      "                  'name': 'Search engine traffic'},\n",
      "                 {'id': 'no', 'name': 'People'},\n",
      "                 {'id': '12', 'name': '12:00'}],\n",
      "  'metrics': [3756.0]},\n",
      " {'dimensions': [{'icon_id': '2',\n",
      "                  'icon_type': 'traffic-source',\n",
      "                  'id': 'organic',\n",
      "                  'name': 'Search engine traffic'},\n",
      "                 {'id': 'no', 'name': 'People'},\n",
      "                 {'id': '11', 'name': '11:00'}],\n",
      "  'metrics': [3710.0]}]\n"
     ]
    },
    {
     "data": {
      "text/html": [
       "<div>\n",
       "<style scoped>\n",
       "    .dataframe tbody tr th:only-of-type {\n",
       "        vertical-align: middle;\n",
       "    }\n",
       "\n",
       "    .dataframe tbody tr th {\n",
       "        vertical-align: top;\n",
       "    }\n",
       "\n",
       "    .dataframe thead th {\n",
       "        text-align: right;\n",
       "    }\n",
       "</style>\n",
       "<table border=\"1\" class=\"dataframe\">\n",
       "  <thead>\n",
       "    <tr style=\"text-align: right;\">\n",
       "      <th></th>\n",
       "      <th>dimensions</th>\n",
       "      <th>metrics</th>\n",
       "    </tr>\n",
       "  </thead>\n",
       "  <tbody>\n",
       "    <tr>\n",
       "      <td>0</td>\n",
       "      <td>[{'name': 'Search engine traffic', 'icon_id': ...</td>\n",
       "      <td>[3959.0]</td>\n",
       "    </tr>\n",
       "    <tr>\n",
       "      <td>1</td>\n",
       "      <td>[{'name': 'Search engine traffic', 'icon_id': ...</td>\n",
       "      <td>[3902.0]</td>\n",
       "    </tr>\n",
       "    <tr>\n",
       "      <td>2</td>\n",
       "      <td>[{'name': 'Search engine traffic', 'icon_id': ...</td>\n",
       "      <td>[3767.0]</td>\n",
       "    </tr>\n",
       "    <tr>\n",
       "      <td>3</td>\n",
       "      <td>[{'name': 'Search engine traffic', 'icon_id': ...</td>\n",
       "      <td>[3756.0]</td>\n",
       "    </tr>\n",
       "    <tr>\n",
       "      <td>4</td>\n",
       "      <td>[{'name': 'Search engine traffic', 'icon_id': ...</td>\n",
       "      <td>[3710.0]</td>\n",
       "    </tr>\n",
       "    <tr>\n",
       "      <td>5</td>\n",
       "      <td>[{'name': 'Search engine traffic', 'icon_id': ...</td>\n",
       "      <td>[3637.0]</td>\n",
       "    </tr>\n",
       "    <tr>\n",
       "      <td>6</td>\n",
       "      <td>[{'name': 'Search engine traffic', 'icon_id': ...</td>\n",
       "      <td>[3592.0]</td>\n",
       "    </tr>\n",
       "    <tr>\n",
       "      <td>7</td>\n",
       "      <td>[{'name': 'Search engine traffic', 'icon_id': ...</td>\n",
       "      <td>[3228.0]</td>\n",
       "    </tr>\n",
       "    <tr>\n",
       "      <td>8</td>\n",
       "      <td>[{'name': 'Search engine traffic', 'icon_id': ...</td>\n",
       "      <td>[3100.0]</td>\n",
       "    </tr>\n",
       "    <tr>\n",
       "      <td>9</td>\n",
       "      <td>[{'name': 'Search engine traffic', 'icon_id': ...</td>\n",
       "      <td>[2674.0]</td>\n",
       "    </tr>\n",
       "  </tbody>\n",
       "</table>\n",
       "</div>"
      ],
      "text/plain": [
       "                                          dimensions   metrics\n",
       "0  [{'name': 'Search engine traffic', 'icon_id': ...  [3959.0]\n",
       "1  [{'name': 'Search engine traffic', 'icon_id': ...  [3902.0]\n",
       "2  [{'name': 'Search engine traffic', 'icon_id': ...  [3767.0]\n",
       "3  [{'name': 'Search engine traffic', 'icon_id': ...  [3756.0]\n",
       "4  [{'name': 'Search engine traffic', 'icon_id': ...  [3710.0]\n",
       "5  [{'name': 'Search engine traffic', 'icon_id': ...  [3637.0]\n",
       "6  [{'name': 'Search engine traffic', 'icon_id': ...  [3592.0]\n",
       "7  [{'name': 'Search engine traffic', 'icon_id': ...  [3228.0]\n",
       "8  [{'name': 'Search engine traffic', 'icon_id': ...  [3100.0]\n",
       "9  [{'name': 'Search engine traffic', 'icon_id': ...  [2674.0]"
      ]
     },
     "metadata": {},
     "output_type": "display_data"
    }
   ],
   "source": [
    "pprint(metrika_data['data'][0:5])\n",
    "metrika_df = pd.DataFrame(metrika_data['data'])\n",
    "display(metrika_df.head(10))"
   ]
  },
  {
   "cell_type": "code",
   "execution_count": 6,
   "metadata": {},
   "outputs": [],
   "source": [
    "def getMetrikaDataInListOfDicts(metrika_data):\n",
    "    list_of_dicts = []\n",
    "    dimensions_list = metrika_data['query']['dimensions']\n",
    "    metrics_list = metrika_data['query']['metrics']\n",
    "    for data_item in metrika_data['data']:\n",
    "        d = {}\n",
    "        for i,dimension in enumerate(data_item['dimensions']):\n",
    "            d[dimensions_list[i]] = dimension['name']\n",
    "        for i,metric in enumerate(data_item['metrics']):\n",
    "            d[metrics_list[i]] = metric\n",
    "        list_of_dicts.append(d)\n",
    "    return list_of_dicts"
   ]
  },
  {
   "cell_type": "code",
   "execution_count": 7,
   "metadata": {},
   "outputs": [
    {
     "name": "stdout",
     "output_type": "stream",
     "text": [
      "[{'ym:s:hour': '15:00',\n",
      "  'ym:s:isRobot': 'People',\n",
      "  'ym:s:lastsignTrafficSource': 'Search engine traffic',\n",
      "  'ym:s:visits': 3959.0},\n",
      " {'ym:s:hour': '16:00',\n",
      "  'ym:s:isRobot': 'People',\n",
      "  'ym:s:lastsignTrafficSource': 'Search engine traffic',\n",
      "  'ym:s:visits': 3902.0},\n",
      " {'ym:s:hour': '14:00',\n",
      "  'ym:s:isRobot': 'People',\n",
      "  'ym:s:lastsignTrafficSource': 'Search engine traffic',\n",
      "  'ym:s:visits': 3767.0},\n",
      " {'ym:s:hour': '12:00',\n",
      "  'ym:s:isRobot': 'People',\n",
      "  'ym:s:lastsignTrafficSource': 'Search engine traffic',\n",
      "  'ym:s:visits': 3756.0},\n",
      " {'ym:s:hour': '11:00',\n",
      "  'ym:s:isRobot': 'People',\n",
      "  'ym:s:lastsignTrafficSource': 'Search engine traffic',\n",
      "  'ym:s:visits': 3710.0}]\n"
     ]
    }
   ],
   "source": [
    "metrika_list_of_dicts = getMetrikaDataInListOfDicts(metrika_data)\n",
    "pprint(metrika_list_of_dicts[0:5])"
   ]
  },
  {
   "cell_type": "code",
   "execution_count": 8,
   "metadata": {},
   "outputs": [
    {
     "data": {
      "text/html": [
       "<div>\n",
       "<style scoped>\n",
       "    .dataframe tbody tr th:only-of-type {\n",
       "        vertical-align: middle;\n",
       "    }\n",
       "\n",
       "    .dataframe tbody tr th {\n",
       "        vertical-align: top;\n",
       "    }\n",
       "\n",
       "    .dataframe thead th {\n",
       "        text-align: right;\n",
       "    }\n",
       "</style>\n",
       "<table border=\"1\" class=\"dataframe\">\n",
       "  <thead>\n",
       "    <tr style=\"text-align: right;\">\n",
       "      <th></th>\n",
       "      <th>ym:s:lastsignTrafficSource</th>\n",
       "      <th>ym:s:isRobot</th>\n",
       "      <th>ym:s:hour</th>\n",
       "      <th>ym:s:visits</th>\n",
       "    </tr>\n",
       "  </thead>\n",
       "  <tbody>\n",
       "    <tr>\n",
       "      <td>0</td>\n",
       "      <td>Search engine traffic</td>\n",
       "      <td>People</td>\n",
       "      <td>15:00</td>\n",
       "      <td>3959.0</td>\n",
       "    </tr>\n",
       "    <tr>\n",
       "      <td>1</td>\n",
       "      <td>Search engine traffic</td>\n",
       "      <td>People</td>\n",
       "      <td>16:00</td>\n",
       "      <td>3902.0</td>\n",
       "    </tr>\n",
       "    <tr>\n",
       "      <td>2</td>\n",
       "      <td>Search engine traffic</td>\n",
       "      <td>People</td>\n",
       "      <td>14:00</td>\n",
       "      <td>3767.0</td>\n",
       "    </tr>\n",
       "    <tr>\n",
       "      <td>3</td>\n",
       "      <td>Search engine traffic</td>\n",
       "      <td>People</td>\n",
       "      <td>12:00</td>\n",
       "      <td>3756.0</td>\n",
       "    </tr>\n",
       "    <tr>\n",
       "      <td>4</td>\n",
       "      <td>Search engine traffic</td>\n",
       "      <td>People</td>\n",
       "      <td>11:00</td>\n",
       "      <td>3710.0</td>\n",
       "    </tr>\n",
       "    <tr>\n",
       "      <td>5</td>\n",
       "      <td>Search engine traffic</td>\n",
       "      <td>People</td>\n",
       "      <td>13:00</td>\n",
       "      <td>3637.0</td>\n",
       "    </tr>\n",
       "    <tr>\n",
       "      <td>6</td>\n",
       "      <td>Search engine traffic</td>\n",
       "      <td>People</td>\n",
       "      <td>17:00</td>\n",
       "      <td>3592.0</td>\n",
       "    </tr>\n",
       "    <tr>\n",
       "      <td>7</td>\n",
       "      <td>Search engine traffic</td>\n",
       "      <td>People</td>\n",
       "      <td>10:00</td>\n",
       "      <td>3228.0</td>\n",
       "    </tr>\n",
       "    <tr>\n",
       "      <td>8</td>\n",
       "      <td>Search engine traffic</td>\n",
       "      <td>People</td>\n",
       "      <td>18:00</td>\n",
       "      <td>3100.0</td>\n",
       "    </tr>\n",
       "    <tr>\n",
       "      <td>9</td>\n",
       "      <td>Search engine traffic</td>\n",
       "      <td>People</td>\n",
       "      <td>19:00</td>\n",
       "      <td>2674.0</td>\n",
       "    </tr>\n",
       "  </tbody>\n",
       "</table>\n",
       "</div>"
      ],
      "text/plain": [
       "  ym:s:lastsignTrafficSource ym:s:isRobot ym:s:hour  ym:s:visits\n",
       "0      Search engine traffic       People     15:00       3959.0\n",
       "1      Search engine traffic       People     16:00       3902.0\n",
       "2      Search engine traffic       People     14:00       3767.0\n",
       "3      Search engine traffic       People     12:00       3756.0\n",
       "4      Search engine traffic       People     11:00       3710.0\n",
       "5      Search engine traffic       People     13:00       3637.0\n",
       "6      Search engine traffic       People     17:00       3592.0\n",
       "7      Search engine traffic       People     10:00       3228.0\n",
       "8      Search engine traffic       People     18:00       3100.0\n",
       "9      Search engine traffic       People     19:00       2674.0"
      ]
     },
     "metadata": {},
     "output_type": "display_data"
    }
   ],
   "source": [
    "metrika_df = pd.DataFrame(metrika_list_of_dicts)\n",
    "metrika_df = metrika_df.dropna()\n",
    "display(metrika_df.head(10))"
   ]
  },
  {
   "cell_type": "code",
   "execution_count": 9,
   "metadata": {},
   "outputs": [
    {
     "name": "stdout",
     "output_type": "stream",
     "text": [
      "(236, 4)\n"
     ]
    }
   ],
   "source": [
    "print(metrika_df.shape)"
   ]
  },
  {
   "cell_type": "code",
   "execution_count": 10,
   "metadata": {},
   "outputs": [],
   "source": [
    "metrika_df['ym:s:date'] = pd.to_datetime(metrika_df['ym:s:hour'])\n",
    "metrika_df['ym:s:visits'] = metrika_df['ym:s:visits'].astype(int)"
   ]
  },
  {
   "cell_type": "code",
   "execution_count": 54,
   "metadata": {},
   "outputs": [
    {
     "data": {
      "text/html": [
       "<div>\n",
       "<style scoped>\n",
       "    .dataframe tbody tr th:only-of-type {\n",
       "        vertical-align: middle;\n",
       "    }\n",
       "\n",
       "    .dataframe tbody tr th {\n",
       "        vertical-align: top;\n",
       "    }\n",
       "\n",
       "    .dataframe thead th {\n",
       "        text-align: right;\n",
       "    }\n",
       "</style>\n",
       "<table border=\"1\" class=\"dataframe\">\n",
       "  <thead>\n",
       "    <tr style=\"text-align: right;\">\n",
       "      <th></th>\n",
       "      <th>lastsignTrafficSource</th>\n",
       "      <th>isRobot</th>\n",
       "      <th>hour</th>\n",
       "      <th>visits</th>\n",
       "      <th>date</th>\n",
       "    </tr>\n",
       "  </thead>\n",
       "  <tbody>\n",
       "    <tr>\n",
       "      <td>0</td>\n",
       "      <td>Search engine traffic</td>\n",
       "      <td>People</td>\n",
       "      <td>15:00</td>\n",
       "      <td>3959</td>\n",
       "      <td>2020-04-12 15:00:00</td>\n",
       "    </tr>\n",
       "    <tr>\n",
       "      <td>1</td>\n",
       "      <td>Search engine traffic</td>\n",
       "      <td>People</td>\n",
       "      <td>16:00</td>\n",
       "      <td>3902</td>\n",
       "      <td>2020-04-12 16:00:00</td>\n",
       "    </tr>\n",
       "    <tr>\n",
       "      <td>2</td>\n",
       "      <td>Search engine traffic</td>\n",
       "      <td>People</td>\n",
       "      <td>14:00</td>\n",
       "      <td>3767</td>\n",
       "      <td>2020-04-12 14:00:00</td>\n",
       "    </tr>\n",
       "    <tr>\n",
       "      <td>3</td>\n",
       "      <td>Search engine traffic</td>\n",
       "      <td>People</td>\n",
       "      <td>12:00</td>\n",
       "      <td>3756</td>\n",
       "      <td>2020-04-12 12:00:00</td>\n",
       "    </tr>\n",
       "    <tr>\n",
       "      <td>4</td>\n",
       "      <td>Search engine traffic</td>\n",
       "      <td>People</td>\n",
       "      <td>11:00</td>\n",
       "      <td>3710</td>\n",
       "      <td>2020-04-12 11:00:00</td>\n",
       "    </tr>\n",
       "  </tbody>\n",
       "</table>\n",
       "</div>"
      ],
      "text/plain": [
       "   lastsignTrafficSource isRobot   hour  visits                date\n",
       "0  Search engine traffic  People  15:00    3959 2020-04-12 15:00:00\n",
       "1  Search engine traffic  People  16:00    3902 2020-04-12 16:00:00\n",
       "2  Search engine traffic  People  14:00    3767 2020-04-12 14:00:00\n",
       "3  Search engine traffic  People  12:00    3756 2020-04-12 12:00:00\n",
       "4  Search engine traffic  People  11:00    3710 2020-04-12 11:00:00"
      ]
     },
     "metadata": {},
     "output_type": "display_data"
    }
   ],
   "source": [
    "#переименуем столбцы\n",
    "a =[]\n",
    "for col in metrika_df.columns:\n",
    "    a.append(col.replace('ym:s:',''))\n",
    "metrika_df.columns = a\n",
    "display(metrika_df.head())"
   ]
  },
  {
   "cell_type": "code",
   "execution_count": 48,
   "metadata": {},
   "outputs": [
    {
     "name": "stdout",
     "output_type": "stream",
     "text": [
      "People    150\n",
      "Robots     86\n",
      "Name: isRobot, dtype: int64\n",
      "\n",
      "Процент роботов: 36.4%\n",
      "Процент реальных посетителей: 63.6%\n"
     ]
    }
   ],
   "source": [
    "counter = metrika_df['isRobot'].value_counts()\n",
    "print(counter)\n",
    "perc_robots = counter[1] / (counter[0] + counter[1])\n",
    "print('\\nПроцент роботов:', '{:.1%}'.format(perc_robots))\n",
    "print('Процент реальных посетителей:', '{:.1%}'.format(1 - perc_robots))"
   ]
  },
  {
   "cell_type": "markdown",
   "metadata": {},
   "source": [
    "### Количество посещений реальных людей и роботов"
   ]
  },
  {
   "cell_type": "code",
   "execution_count": 57,
   "metadata": {},
   "outputs": [
    {
     "name": "stdout",
     "output_type": "stream",
     "text": [
      "isRobot\n",
      "People    67101\n",
      "Robots     2777\n",
      "Name: visits, dtype: int32\n",
      "\n",
      "Процент траффика роботов: 4.0%\n",
      "Процент траффика реальных пользователей: 96.0%\n"
     ]
    }
   ],
   "source": [
    "counter_traffic = metrika_df.groupby('isRobot')['visits'].sum()\n",
    "print(counter_traffic)\n",
    "perc_robots_traffic = counter_traffic[1] / (counter_traffic[1] + counter_traffic[0])\n",
    "print('\\nПроцент траффика роботов:', '{:.1%}'.format(perc_robots_traffic))\n",
    "print('Процент траффика реальных пользователей:', '{:.1%}'.format(1 - perc_robots_traffic))"
   ]
  },
  {
   "cell_type": "markdown",
   "metadata": {},
   "source": [
    "### Какие источники трафика содержат бОльшую долю роботов?"
   ]
  },
  {
   "cell_type": "code",
   "execution_count": 14,
   "metadata": {},
   "outputs": [],
   "source": [
    "pivot_df = metrika_df.pivot_table(index = 'lastsignTrafficSource', columns = 'isRobot', values = 'visits', aggfunc = 'sum')\n",
    "pivot_df['Robots traffic part, %'] = (pivot_df['Robots'] / (pivot_df['People'] + pivot_df['Robots'])) * 100\n",
    "pivot_df = pivot_df.dropna()"
   ]
  },
  {
   "cell_type": "code",
   "execution_count": 15,
   "metadata": {},
   "outputs": [
    {
     "data": {
      "text/html": [
       "<div>\n",
       "<style scoped>\n",
       "    .dataframe tbody tr th:only-of-type {\n",
       "        vertical-align: middle;\n",
       "    }\n",
       "\n",
       "    .dataframe tbody tr th {\n",
       "        vertical-align: top;\n",
       "    }\n",
       "\n",
       "    .dataframe thead th {\n",
       "        text-align: right;\n",
       "    }\n",
       "</style>\n",
       "<table border=\"1\" class=\"dataframe\">\n",
       "  <thead>\n",
       "    <tr style=\"text-align: right;\">\n",
       "      <th>isRobot</th>\n",
       "      <th>People</th>\n",
       "      <th>Robots</th>\n",
       "      <th>Robots traffic part, %</th>\n",
       "    </tr>\n",
       "    <tr>\n",
       "      <th>lastsignTrafficSource</th>\n",
       "      <th></th>\n",
       "      <th></th>\n",
       "      <th></th>\n",
       "    </tr>\n",
       "  </thead>\n",
       "  <tbody>\n",
       "    <tr>\n",
       "      <td>Direct traffic</td>\n",
       "      <td>7366.0</td>\n",
       "      <td>1830.0</td>\n",
       "      <td>19.899957</td>\n",
       "    </tr>\n",
       "    <tr>\n",
       "      <td>Internal traffic</td>\n",
       "      <td>225.0</td>\n",
       "      <td>8.0</td>\n",
       "      <td>3.433476</td>\n",
       "    </tr>\n",
       "    <tr>\n",
       "      <td>Link traffic</td>\n",
       "      <td>1561.0</td>\n",
       "      <td>32.0</td>\n",
       "      <td>2.008788</td>\n",
       "    </tr>\n",
       "    <tr>\n",
       "      <td>Search engine traffic</td>\n",
       "      <td>55219.0</td>\n",
       "      <td>861.0</td>\n",
       "      <td>1.535307</td>\n",
       "    </tr>\n",
       "    <tr>\n",
       "      <td>Social network traffic</td>\n",
       "      <td>2656.0</td>\n",
       "      <td>46.0</td>\n",
       "      <td>1.702443</td>\n",
       "    </tr>\n",
       "  </tbody>\n",
       "</table>\n",
       "</div>"
      ],
      "text/plain": [
       "isRobot                  People  Robots  Robots traffic part, %\n",
       "lastsignTrafficSource                                          \n",
       "Direct traffic           7366.0  1830.0               19.899957\n",
       "Internal traffic          225.0     8.0                3.433476\n",
       "Link traffic             1561.0    32.0                2.008788\n",
       "Search engine traffic   55219.0   861.0                1.535307\n",
       "Social network traffic   2656.0    46.0                1.702443"
      ]
     },
     "metadata": {},
     "output_type": "display_data"
    }
   ],
   "source": [
    "display(pivot_df)"
   ]
  },
  {
   "cell_type": "markdown",
   "metadata": {},
   "source": [
    "### В какое время роботы чаще посещают ресурс?"
   ]
  },
  {
   "cell_type": "code",
   "execution_count": 16,
   "metadata": {},
   "outputs": [
    {
     "data": {
      "text/html": [
       "<div>\n",
       "<style scoped>\n",
       "    .dataframe tbody tr th:only-of-type {\n",
       "        vertical-align: middle;\n",
       "    }\n",
       "\n",
       "    .dataframe tbody tr th {\n",
       "        vertical-align: top;\n",
       "    }\n",
       "\n",
       "    .dataframe thead th {\n",
       "        text-align: right;\n",
       "    }\n",
       "</style>\n",
       "<table border=\"1\" class=\"dataframe\">\n",
       "  <thead>\n",
       "    <tr style=\"text-align: right;\">\n",
       "      <th></th>\n",
       "      <th>Robots, %</th>\n",
       "    </tr>\n",
       "    <tr>\n",
       "      <th>hour</th>\n",
       "      <th></th>\n",
       "    </tr>\n",
       "  </thead>\n",
       "  <tbody>\n",
       "    <tr>\n",
       "      <td>00:00</td>\n",
       "      <td>3.42</td>\n",
       "    </tr>\n",
       "    <tr>\n",
       "      <td>01:00</td>\n",
       "      <td>2.99</td>\n",
       "    </tr>\n",
       "    <tr>\n",
       "      <td>02:00</td>\n",
       "      <td>3.78</td>\n",
       "    </tr>\n",
       "    <tr>\n",
       "      <td>03:00</td>\n",
       "      <td>2.38</td>\n",
       "    </tr>\n",
       "    <tr>\n",
       "      <td>04:00</td>\n",
       "      <td>3.10</td>\n",
       "    </tr>\n",
       "    <tr>\n",
       "      <td>05:00</td>\n",
       "      <td>3.35</td>\n",
       "    </tr>\n",
       "    <tr>\n",
       "      <td>06:00</td>\n",
       "      <td>2.59</td>\n",
       "    </tr>\n",
       "    <tr>\n",
       "      <td>07:00</td>\n",
       "      <td>2.81</td>\n",
       "    </tr>\n",
       "    <tr>\n",
       "      <td>08:00</td>\n",
       "      <td>3.42</td>\n",
       "    </tr>\n",
       "    <tr>\n",
       "      <td>09:00</td>\n",
       "      <td>3.60</td>\n",
       "    </tr>\n",
       "    <tr>\n",
       "      <td>10:00</td>\n",
       "      <td>5.04</td>\n",
       "    </tr>\n",
       "    <tr>\n",
       "      <td>11:00</td>\n",
       "      <td>6.52</td>\n",
       "    </tr>\n",
       "    <tr>\n",
       "      <td>12:00</td>\n",
       "      <td>5.26</td>\n",
       "    </tr>\n",
       "    <tr>\n",
       "      <td>13:00</td>\n",
       "      <td>5.40</td>\n",
       "    </tr>\n",
       "    <tr>\n",
       "      <td>14:00</td>\n",
       "      <td>5.62</td>\n",
       "    </tr>\n",
       "    <tr>\n",
       "      <td>15:00</td>\n",
       "      <td>5.55</td>\n",
       "    </tr>\n",
       "    <tr>\n",
       "      <td>16:00</td>\n",
       "      <td>5.91</td>\n",
       "    </tr>\n",
       "    <tr>\n",
       "      <td>17:00</td>\n",
       "      <td>5.04</td>\n",
       "    </tr>\n",
       "    <tr>\n",
       "      <td>18:00</td>\n",
       "      <td>4.36</td>\n",
       "    </tr>\n",
       "    <tr>\n",
       "      <td>19:00</td>\n",
       "      <td>4.65</td>\n",
       "    </tr>\n",
       "    <tr>\n",
       "      <td>20:00</td>\n",
       "      <td>4.14</td>\n",
       "    </tr>\n",
       "    <tr>\n",
       "      <td>21:00</td>\n",
       "      <td>4.43</td>\n",
       "    </tr>\n",
       "    <tr>\n",
       "      <td>22:00</td>\n",
       "      <td>3.49</td>\n",
       "    </tr>\n",
       "    <tr>\n",
       "      <td>23:00</td>\n",
       "      <td>3.17</td>\n",
       "    </tr>\n",
       "  </tbody>\n",
       "</table>\n",
       "</div>"
      ],
      "text/plain": [
       "       Robots, %\n",
       "hour            \n",
       "00:00       3.42\n",
       "01:00       2.99\n",
       "02:00       3.78\n",
       "03:00       2.38\n",
       "04:00       3.10\n",
       "05:00       3.35\n",
       "06:00       2.59\n",
       "07:00       2.81\n",
       "08:00       3.42\n",
       "09:00       3.60\n",
       "10:00       5.04\n",
       "11:00       6.52\n",
       "12:00       5.26\n",
       "13:00       5.40\n",
       "14:00       5.62\n",
       "15:00       5.55\n",
       "16:00       5.91\n",
       "17:00       5.04\n",
       "18:00       4.36\n",
       "19:00       4.65\n",
       "20:00       4.14\n",
       "21:00       4.43\n",
       "22:00       3.49\n",
       "23:00       3.17"
      ]
     },
     "metadata": {},
     "output_type": "display_data"
    }
   ],
   "source": [
    "pivot_df_time = metrika_df.pivot_table(index = 'hour', columns = 'isRobot', values = 'visits', aggfunc = 'sum')\n",
    "pivot_df_time_robots = pd.DataFrame(pivot_df_time['Robots'])\n",
    "pivot_df_time_robots = round(pivot_df_time_robots / pivot_df_time_robots.sum() * 100, 2)\n",
    "pivot_df_time_robots.columns = ['Robots, %']\n",
    "display(pivot_df_time_robots)"
   ]
  },
  {
   "cell_type": "markdown",
   "metadata": {},
   "source": [
    "### Процент трафика роботов с распределением по времени"
   ]
  },
  {
   "cell_type": "code",
   "execution_count": 45,
   "metadata": {},
   "outputs": [
    {
     "data": {
      "image/png": "[encoded data removed]",
      "text/plain": [
       "<Figure size 864x576 with 1 Axes>"
      ]
     },
     "metadata": {},
     "output_type": "display_data"
    }
   ],
   "source": [
    "plt.style.use('ggplot')\n",
    "pivot_df_time_robots.plot(y = 'Robots, %', figsize = (12, 8))\n",
    "plt.grid(True, axis = 'x')\n",
    "plt.minorticks_on()\n",
    "plt.grid(which = 'minor', linestyle = ':')\n",
    "plt.show()"
   ]
  },
  {
   "cell_type": "markdown",
   "metadata": {},
   "source": [
    "### Выводы:\n",
    "1. Доля трафика роботов по всем источникам - 4,0 % (2777 посещений)\n",
    "2. НаибОльшую часть траффика роботов содержит Direct traffic, порядка 20 % от всего траффика по Direct traffic - роботы.\n",
    "3. Наибольший трафик роботов наблюдается в период: с 10:00 - 17:00, более 5 % от всего трафика роботов."
   ]
  },
  {
   "cell_type": "code",
   "execution_count": null,
   "metadata": {},
   "outputs": [],
   "source": []
  }
 ],
 "metadata": {
  "kernelspec": {
   "display_name": "Python 3",
   "language": "python",
   "name": "python3"
  },
  "language_info": {
   "codemirror_mode": {
    "name": "ipython",
    "version": 3
   },
   "file_extension": ".py",
   "mimetype": "text/x-python",
   "name": "python",
   "nbconvert_exporter": "python",
   "pygments_lexer": "ipython3",
   "version": "3.7.4"
  }
 },
 "nbformat": 4,
 "nbformat_minor": 2
}
