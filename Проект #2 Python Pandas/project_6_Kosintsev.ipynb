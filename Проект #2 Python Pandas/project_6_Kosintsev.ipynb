{
 "cells": [
  {
   "cell_type": "code",
   "execution_count": 1,
   "metadata": {},
   "outputs": [],
   "source": [
    "import json, collections\n",
    "import pandas as pd"
   ]
  },
  {
   "cell_type": "code",
   "execution_count": 2,
   "metadata": {},
   "outputs": [],
   "source": [
    "with open('case6.json', 'rb') as data_json:\n",
    "    data = json.load(data_json)"
   ]
  },
  {
   "cell_type": "code",
   "execution_count": 3,
   "metadata": {},
   "outputs": [
    {
     "name": "stdout",
     "output_type": "stream",
     "text": [
      "Counter({'event_2': 33522, 'registration': 7351, 'tarif_set': 7351, 'event_1': 6584, 'activation': 6106, 'target_event': 1543})\n"
     ]
    }
   ],
   "source": [
    "categories = []\n",
    "for item in data:\n",
    "    category = item['event_type']\n",
    "    categories.append(category)\n",
    "\n",
    "c = collections.Counter(categories)\n",
    "all_events_count = sum(c.values())\n",
    "print(c)"
   ]
  },
  {
   "cell_type": "markdown",
   "metadata": {},
   "source": [
    "Пользователи уникальные"
   ]
  },
  {
   "cell_type": "code",
   "execution_count": 4,
   "metadata": {},
   "outputs": [],
   "source": [
    "users = []\n",
    "for user in data:\n",
    "    user_id = user['user_id']\n",
    "    users.append(user_id)\n",
    "\n",
    "users_count = set(users)"
   ]
  },
  {
   "cell_type": "markdown",
   "metadata": {},
   "source": [
    "Пользователи, совершившие event_1, event_2, target_event"
   ]
  },
  {
   "cell_type": "code",
   "execution_count": 5,
   "metadata": {},
   "outputs": [],
   "source": [
    "set_users_event_1 = set(element['user_id']\n",
    "                        for element in data\n",
    "                        if element['event_type'] == 'event_1'\n",
    "                        )\n",
    "set_users_event_2 = set(element['user_id']\n",
    "                        for element in data\n",
    "                        if element['event_type'] == 'event_2'\n",
    "                        )\n",
    "set_users_target = set([element['user_id']\n",
    "                        for element in data\n",
    "                        if element['event_type'] == 'target_event']\n",
    "                       )\n",
    "set_users_no_target = set(users) - set_users_target"
   ]
  },
  {
   "cell_type": "markdown",
   "metadata": {},
   "source": [
    "Конверсия"
   ]
  },
  {
   "cell_type": "code",
   "execution_count": 6,
   "metadata": {},
   "outputs": [
    {
     "name": "stdout",
     "output_type": "stream",
     "text": [
      "13.33%\n"
     ]
    }
   ],
   "source": [
    "conversion_rate = len(set_users_target) / len(users_count)\n",
    "print('{:.2%}'.format(conversion_rate))"
   ]
  },
  {
   "cell_type": "markdown",
   "metadata": {},
   "source": [
    "### Гипотеза №1"
   ]
  },
  {
   "cell_type": "code",
   "execution_count": 7,
   "metadata": {},
   "outputs": [],
   "source": [
    "def event_types_counter (input_set):\n",
    "    \n",
    "    event_types = [event['event_type']\n",
    "                            for event in data\n",
    "                            if event['user_id'] in input_set]\n",
    "    \n",
    "    count_event_types = collections.Counter(event_types)\n",
    "    sum_events = sum(count_event_types.values())\n",
    "\n",
    "    for event in count_event_types:\n",
    "        percent = count_event_types[event]/sum_events\n",
    "        print('\\nПользователи выполнили также %s =' % event, count_event_types[event], \n",
    "              '(%s)'% '{:.2%}'.format(percent))"
   ]
  },
  {
   "cell_type": "markdown",
   "metadata": {},
   "source": [
    "Действия пользователей, которые выполнили event_1"
   ]
  },
  {
   "cell_type": "code",
   "execution_count": 8,
   "metadata": {},
   "outputs": [
    {
     "name": "stdout",
     "output_type": "stream",
     "text": [
      "\n",
      "Пользователи выполнили также registration = 2844 (8.99%)\n",
      "\n",
      "Пользователи выполнили также activation = 2844 (8.99%)\n",
      "\n",
      "Пользователи выполнили также event_1 = 6584 (20.81%)\n",
      "\n",
      "Пользователи выполнили также event_2 = 15425 (48.76%)\n",
      "\n",
      "Пользователи выполнили также target_event = 1095 (3.46%)\n",
      "\n",
      "Пользователи выполнили также tarif_set = 2844 (8.99%)\n"
     ]
    }
   ],
   "source": [
    "event_types_counter(set_users_event_1)"
   ]
  },
  {
   "cell_type": "markdown",
   "metadata": {},
   "source": [
    "Действия пользователей, которые выполнили event_2"
   ]
  },
  {
   "cell_type": "code",
   "execution_count": 9,
   "metadata": {},
   "outputs": [
    {
     "name": "stdout",
     "output_type": "stream",
     "text": [
      "\n",
      "Пользователи выполнили также registration = 5332 (9.42%)\n",
      "\n",
      "Пользователи выполнили также activation = 5332 (9.42%)\n",
      "\n",
      "Пользователи выполнили также event_1 = 5755 (10.16%)\n",
      "\n",
      "Пользователи выполнили также event_2 = 33522 (59.20%)\n",
      "\n",
      "Пользователи выполнили также target_event = 1348 (2.38%)\n",
      "\n",
      "Пользователи выполнили также tarif_set = 5332 (9.42%)\n"
     ]
    }
   ],
   "source": [
    "event_types_counter(set_users_event_2)"
   ]
  },
  {
   "cell_type": "markdown",
   "metadata": {},
   "source": [
    "Действия пользователей, которые выполнили target_event"
   ]
  },
  {
   "cell_type": "code",
   "execution_count": 10,
   "metadata": {},
   "outputs": [
    {
     "name": "stdout",
     "output_type": "stream",
     "text": [
      "\n",
      "Пользователи выполнили также registration = 980 (8.30%)\n",
      "\n",
      "Пользователи выполнили также activation = 980 (8.30%)\n",
      "\n",
      "Пользователи выполнили также event_1 = 1768 (14.97%)\n",
      "\n",
      "Пользователи выполнили также event_2 = 5560 (47.07%)\n",
      "\n",
      "Пользователи выполнили также target_event = 1543 (13.06%)\n",
      "\n",
      "Пользователи выполнили также tarif_set = 980 (8.30%)\n"
     ]
    }
   ],
   "source": [
    "event_types_counter(set_users_target)"
   ]
  },
  {
   "cell_type": "code",
   "execution_count": 11,
   "metadata": {},
   "outputs": [
    {
     "name": "stdout",
     "output_type": "stream",
     "text": [
      "\n",
      "Пользователи выполнили также registration = 6371 (12.58%)\n",
      "\n",
      "Пользователи выполнили также activation = 5126 (10.12%)\n",
      "\n",
      "Пользователи выполнили также event_1 = 4816 (9.51%)\n",
      "\n",
      "Пользователи выполнили также event_2 = 27962 (55.21%)\n",
      "\n",
      "Пользователи выполнили также tarif_set = 6371 (12.58%)\n"
     ]
    }
   ],
   "source": [
    "event_types_counter(set_users_no_target)"
   ]
  },
  {
   "cell_type": "markdown",
   "metadata": {},
   "source": [
    "### Гипотеза №2"
   ]
  },
  {
   "cell_type": "code",
   "execution_count": 12,
   "metadata": {},
   "outputs": [
    {
     "name": "stdout",
     "output_type": "stream",
     "text": [
      "Пользователей, совершивших 1 target_event = 808, Процент пользователей: 82.45% Процент от всех целевых действий: 52.37%\n",
      "Пользователей, совершивших 2 target_event = 26, Процент пользователей: 2.65% Процент от всех целевых действий: 3.37%\n",
      "Пользователей, совершивших 3 target_event = 31, Процент пользователей: 3.16% Процент от всех целевых действий: 6.03%\n",
      "Пользователей, совершивших 4 target_event = 49, Процент пользователей: 5.00% Процент от всех целевых действий: 12.70%\n",
      "Пользователей, совершивших 5 target_event = 29, Процент пользователей: 2.96% Процент от всех целевых действий: 9.40%\n",
      "Пользователей, совершивших 6 target_event = 20, Процент пользователей: 2.04% Процент от всех целевых действий: 7.78%\n",
      "Пользователей, совершивших 7 target_event = 9, Процент пользователей: 0.92% Процент от всех целевых действий: 4.08%\n",
      "Пользователей, совершивших 8 target_event = 6, Процент пользователей: 0.61% Процент от всех целевых действий: 3.11%\n",
      "Пользователей, совершивших 9 target_event = 2, Процент пользователей: 0.20% Процент от всех целевых действий: 1.17%\n"
     ]
    }
   ],
   "source": [
    "#счетчик: пользователь: число целевых действий\n",
    "\n",
    "target_counter = []\n",
    "for item in data:\n",
    "    if item['event_type'] == 'target_event':\n",
    "        target_counter.append(item['user_id'])\n",
    "coll = collections.Counter(target_counter)\n",
    "\n",
    "#всего пользователей с целевыми действиями\n",
    "sum_target = sum(coll.values())\n",
    "\n",
    "#количество пользователей, совершающих N целевых действий\n",
    "coll_count = dict(collections.Counter(coll.values()))\n",
    "coll_count_keys = list(coll_count.keys())\n",
    "coll_count_keys.sort()\n",
    "target_users = len(set_users_target)\n",
    "for enum in coll_count_keys:\n",
    "    percent_users = coll_count[enum] / target_users\n",
    "    percent_events = enum * coll_count[enum] / sum_target\n",
    "    print('Пользователей, совершивших %s target_event = %s,' % (enum, coll_count[enum]), \n",
    "          'Процент пользователей: %s' % '{:.2%}'.format(percent_users), \n",
    "          'Процент от всех целевых действий: %s' %'{:.2%}'.format(percent_events))"
   ]
  },
  {
   "cell_type": "code",
   "execution_count": 13,
   "metadata": {},
   "outputs": [
    {
     "name": "stdout",
     "output_type": "stream",
     "text": [
      "Процент целевых действий с постоянных пользователей = 47.63%. Процент пользователей = 17.55%\n",
      "\n",
      "Процент целевых действий с пользователей с одним целевым действием = 52.37%. Процент пользователей = 82.45%\n"
     ]
    }
   ],
   "source": [
    "#пусть: пользователи, имеющие больше 1 целевого действия - постоянные пользователи (regular_users)\n",
    "#расчитаем отношение целевых действий для постоянных пользователей относительно остальных, совершивших целевое действие\n",
    "\n",
    "set_regular_users = []\n",
    "for user in coll:\n",
    "    if coll[user] > 1:\n",
    "        set_regular_users.append(user)\n",
    "\n",
    "#число целевых действий с постоянных пользователей:\n",
    "\n",
    "regular_users_target_sum = sum(coll[user]\n",
    "                            for user in coll\n",
    "                            if user in set_regular_users)\n",
    "percent_events_reg_users = regular_users_target_sum/sum(coll.values())\n",
    "\n",
    "reg_users = sum(coll_count.values()) - coll_count[1]\n",
    "percent_reg_users = reg_users / sum(coll_count.values())\n",
    "\n",
    "print('Процент целевых действий с постоянных пользователей =', \n",
    "      '{:.2%}'.format(percent_events_reg_users) + '.', \n",
    "     'Процент пользователей =', '{:.2%}'.format(percent_reg_users))\n",
    "\n",
    "print('\\nПроцент целевых действий с пользователей с одним целевым действием =', \n",
    "      '{:.2%}'.format(1 - percent_events_reg_users) + '.',\n",
    "     'Процент пользователей =', '{:.2%}'.format(1 - percent_reg_users))"
   ]
  },
  {
   "cell_type": "markdown",
   "metadata": {},
   "source": [
    "###### На основании полученных результатов, считаем Гипотезу №2, о том, что основная часть покупок (целевых действий) совершается постоянными покупателями - ОПРОВЕРГНУТА.\n",
    "Около половины покупок (целевых действий) совершается пользователями, которые имеют одно целевое действие, около половины - теми кто имеет 2 и более покупок.\n",
    "Таким образом, можно сказать о том, что требуется усиливать мероприятия по возврату пользователей в сервис, либо искать причины, почему пользователь совершил всего одну покупку (возможно, неудобен сервис оплаты и т.п.)."
   ]
  }
 ],
 "metadata": {
  "kernelspec": {
   "display_name": "Python 3",
   "language": "python",
   "name": "python3"
  },
  "language_info": {
   "codemirror_mode": {
    "name": "ipython",
    "version": 3
   },
   "file_extension": ".py",
   "mimetype": "text/x-python",
   "name": "python",
   "nbconvert_exporter": "python",
   "pygments_lexer": "ipython3",
   "version": "3.7.4"
  }
 },
 "nbformat": 4,
 "nbformat_minor": 2
}
