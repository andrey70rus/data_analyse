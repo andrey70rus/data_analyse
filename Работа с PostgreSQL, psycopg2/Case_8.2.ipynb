{
 "cells": [
  {
   "cell_type": "markdown",
   "metadata": {},
   "source": [
    "### Задача:\n",
    "\n",
    "Проанализировать зависимость оплат от прохождения обучения. Для этого нужно определить существует ли различие в частоте и средней величине оплат между 3 группами пользователей:\n",
    "- Пользователями, которые прошли обучение хотя бы раз.\n",
    "- Пользователями, которые начали обучение, но не прошли его ни разу.\n",
    "- Пользователями, которые не начинали обучение, а сразу же перешли к выбору уровня сложности.\n",
    "\n",
    "Существует ли разница во времени между пользователями с разным уровнем сложности и их первой оплатой?"
   ]
  },
  {
   "cell_type": "code",
   "execution_count": 1,
   "metadata": {},
   "outputs": [],
   "source": [
    "import pandas as pd\n",
    "import psycopg2\n",
    "import psycopg2.extras \n",
    "import numpy as np"
   ]
  },
  {
   "cell_type": "code",
   "execution_count": 2,
   "metadata": {},
   "outputs": [],
   "source": [
    "def getEventsData():\n",
    "    query = '''SELECT e.* FROM case8.events e\n",
    "    WHERE e.user_id in\n",
    "    (SELECT DISTINCT(user_id) \n",
    "    FROM case8.events \n",
    "    WHERE event_type = 'registration' \n",
    "    AND start_time >= '2017-01-01'\n",
    "    AND start_time < '2018-01-01')\n",
    "    '''.format()\n",
    "    conn = psycopg2.connect(\"dbname='skillfactory' user='skillfactory' host='84.201.134.129' password='cCkxxLVrDE8EbvjueeMedPKt' port=5432\")\n",
    "    dict_cur = conn.cursor(cursor_factory=psycopg2.extras.DictCursor)\n",
    "    dict_cur.execute(query)\n",
    "    rows = dict_cur.fetchall()\n",
    "    data = []\n",
    "    for row in rows:\n",
    "        data.append(dict(row))\n",
    "    return data\n",
    "\n",
    "def getPurchaseData():\n",
    "    query = '''SELECT p.* FROM case8.purchase p\n",
    "    WHERE p.user_id in\n",
    "    (SELECT DISTINCT(user_id) \n",
    "    FROM case8.events \n",
    "    WHERE event_type = 'registration' \n",
    "    AND start_time >= '2017-01-01'\n",
    "    AND start_time < '2018-01-01')\n",
    "    '''.format()\n",
    "    conn = psycopg2.connect(\"dbname='skillfactory' user='skillfactory' host='84.201.134.129' password='cCkxxLVrDE8EbvjueeMedPKt' port=5432\")\n",
    "    dict_cur = conn.cursor(cursor_factory=psycopg2.extras.DictCursor)\n",
    "    dict_cur.execute(query)\n",
    "    rows = dict_cur.fetchall()\n",
    "    data = []\n",
    "    for row in rows:\n",
    "        data.append(dict(row))\n",
    "    return data\n",
    "\n",
    "events_df = pd.DataFrame(getEventsData())\n",
    "purchase_df = pd.DataFrame(getPurchaseData())"
   ]
  },
  {
   "cell_type": "code",
   "execution_count": 3,
   "metadata": {},
   "outputs": [
    {
     "data": {
      "text/html": [
       "<div>\n",
       "<style scoped>\n",
       "    .dataframe tbody tr th:only-of-type {\n",
       "        vertical-align: middle;\n",
       "    }\n",
       "\n",
       "    .dataframe tbody tr th {\n",
       "        vertical-align: top;\n",
       "    }\n",
       "\n",
       "    .dataframe thead th {\n",
       "        text-align: right;\n",
       "    }\n",
       "</style>\n",
       "<table border=\"1\" class=\"dataframe\">\n",
       "  <thead>\n",
       "    <tr style=\"text-align: right;\">\n",
       "      <th></th>\n",
       "      <th>event_type</th>\n",
       "      <th>selected_level</th>\n",
       "      <th>start_time</th>\n",
       "      <th>user_id</th>\n",
       "      <th>id</th>\n",
       "    </tr>\n",
       "  </thead>\n",
       "  <tbody>\n",
       "    <tr>\n",
       "      <td>19</td>\n",
       "      <td>level_choice</td>\n",
       "      <td>medium</td>\n",
       "      <td>2017-01-01 20:37:22</td>\n",
       "      <td>27835</td>\n",
       "      <td>80327</td>\n",
       "    </tr>\n",
       "    <tr>\n",
       "      <td>23</td>\n",
       "      <td>level_choice</td>\n",
       "      <td>hard</td>\n",
       "      <td>2017-01-01 22:37:50</td>\n",
       "      <td>27839</td>\n",
       "      <td>80331</td>\n",
       "    </tr>\n",
       "    <tr>\n",
       "      <td>36</td>\n",
       "      <td>level_choice</td>\n",
       "      <td>medium</td>\n",
       "      <td>2017-01-02 05:18:42</td>\n",
       "      <td>27840</td>\n",
       "      <td>80344</td>\n",
       "    </tr>\n",
       "    <tr>\n",
       "      <td>38</td>\n",
       "      <td>level_choice</td>\n",
       "      <td>hard</td>\n",
       "      <td>2017-01-02 06:19:18</td>\n",
       "      <td>27845</td>\n",
       "      <td>80346</td>\n",
       "    </tr>\n",
       "    <tr>\n",
       "      <td>45</td>\n",
       "      <td>level_choice</td>\n",
       "      <td>easy</td>\n",
       "      <td>2017-01-02 08:46:03</td>\n",
       "      <td>27842</td>\n",
       "      <td>80353</td>\n",
       "    </tr>\n",
       "  </tbody>\n",
       "</table>\n",
       "</div>"
      ],
      "text/plain": [
       "      event_type selected_level          start_time  user_id     id\n",
       "19  level_choice         medium 2017-01-01 20:37:22    27835  80327\n",
       "23  level_choice           hard 2017-01-01 22:37:50    27839  80331\n",
       "36  level_choice         medium 2017-01-02 05:18:42    27840  80344\n",
       "38  level_choice           hard 2017-01-02 06:19:18    27845  80346\n",
       "45  level_choice           easy 2017-01-02 08:46:03    27842  80353"
      ]
     },
     "execution_count": 3,
     "metadata": {},
     "output_type": "execute_result"
    }
   ],
   "source": [
    "events_df = events_df[events_df['event_type'] == 'level_choice']\n",
    "# удалим столбец tutorial_id\n",
    "del events_df['tutorial_id']\n",
    "events_df.head()"
   ]
  },
  {
   "cell_type": "code",
   "execution_count": 4,
   "metadata": {},
   "outputs": [
    {
     "name": "stdout",
     "output_type": "stream",
     "text": [
      "<class 'pandas.core.frame.DataFrame'>\n",
      "Int64Index: 8342 entries, 19 to 66957\n",
      "Data columns (total 5 columns):\n",
      "event_type        8342 non-null object\n",
      "selected_level    8342 non-null object\n",
      "start_time        8342 non-null datetime64[ns]\n",
      "user_id           8342 non-null int64\n",
      "id                8342 non-null int64\n",
      "dtypes: datetime64[ns](1), int64(2), object(2)\n",
      "memory usage: 391.0+ KB\n"
     ]
    }
   ],
   "source": [
    "events_df.info()"
   ]
  },
  {
   "cell_type": "code",
   "execution_count": 5,
   "metadata": {},
   "outputs": [
    {
     "data": {
      "text/plain": [
       "array(['medium', 'hard', 'easy'], dtype=object)"
      ]
     },
     "execution_count": 5,
     "metadata": {},
     "output_type": "execute_result"
    }
   ],
   "source": [
    "events_df['selected_level'].unique()"
   ]
  },
  {
   "cell_type": "code",
   "execution_count": 6,
   "metadata": {},
   "outputs": [
    {
     "data": {
      "text/html": [
       "<div>\n",
       "<style scoped>\n",
       "    .dataframe tbody tr th:only-of-type {\n",
       "        vertical-align: middle;\n",
       "    }\n",
       "\n",
       "    .dataframe tbody tr th {\n",
       "        vertical-align: top;\n",
       "    }\n",
       "\n",
       "    .dataframe thead th {\n",
       "        text-align: right;\n",
       "    }\n",
       "</style>\n",
       "<table border=\"1\" class=\"dataframe\">\n",
       "  <thead>\n",
       "    <tr style=\"text-align: right;\">\n",
       "      <th></th>\n",
       "      <th>user_id</th>\n",
       "      <th>purchase_start_time</th>\n",
       "      <th>amount</th>\n",
       "      <th>purchase_id</th>\n",
       "    </tr>\n",
       "  </thead>\n",
       "  <tbody>\n",
       "    <tr>\n",
       "      <td>0</td>\n",
       "      <td>37878</td>\n",
       "      <td>2017-06-30 17:05:21</td>\n",
       "      <td>150</td>\n",
       "      <td>17668</td>\n",
       "    </tr>\n",
       "    <tr>\n",
       "      <td>1</td>\n",
       "      <td>47216</td>\n",
       "      <td>2017-12-22 06:30:31</td>\n",
       "      <td>25</td>\n",
       "      <td>18396</td>\n",
       "    </tr>\n",
       "    <tr>\n",
       "      <td>2</td>\n",
       "      <td>35532</td>\n",
       "      <td>2017-05-21 04:23:32</td>\n",
       "      <td>150</td>\n",
       "      <td>17475</td>\n",
       "    </tr>\n",
       "    <tr>\n",
       "      <td>3</td>\n",
       "      <td>42583</td>\n",
       "      <td>2017-10-17 13:52:14</td>\n",
       "      <td>100</td>\n",
       "      <td>18027</td>\n",
       "    </tr>\n",
       "    <tr>\n",
       "      <td>4</td>\n",
       "      <td>32321</td>\n",
       "      <td>2017-03-20 06:51:27</td>\n",
       "      <td>150</td>\n",
       "      <td>17202</td>\n",
       "    </tr>\n",
       "  </tbody>\n",
       "</table>\n",
       "</div>"
      ],
      "text/plain": [
       "   user_id purchase_start_time  amount  purchase_id\n",
       "0    37878 2017-06-30 17:05:21     150        17668\n",
       "1    47216 2017-12-22 06:30:31      25        18396\n",
       "2    35532 2017-05-21 04:23:32     150        17475\n",
       "3    42583 2017-10-17 13:52:14     100        18027\n",
       "4    32321 2017-03-20 06:51:27     150        17202"
      ]
     },
     "execution_count": 6,
     "metadata": {},
     "output_type": "execute_result"
    }
   ],
   "source": [
    "events_df = events_df.rename(columns={'id':'event_id'})\n",
    "purchase_df = purchase_df.rename(columns={'id':'purchase_id', 'start_time':'purchase_start_time'})\n",
    "purchase_df.head()"
   ]
  },
  {
   "cell_type": "markdown",
   "metadata": {},
   "source": [
    "#### Пользователи, выбравшие \"easy\" уровень"
   ]
  },
  {
   "cell_type": "code",
   "execution_count": 7,
   "metadata": {},
   "outputs": [],
   "source": [
    "users_easy_df = events_df[events_df['selected_level'] == 'easy']"
   ]
  },
  {
   "cell_type": "code",
   "execution_count": 8,
   "metadata": {},
   "outputs": [
    {
     "name": "stdout",
     "output_type": "stream",
     "text": [
      "Количество пользователей: 2448\n"
     ]
    }
   ],
   "source": [
    "users_easy_count = users_easy_df['user_id'].nunique()\n",
    "print('Количество пользователей: ' + str(users_easy_count))"
   ]
  },
  {
   "cell_type": "code",
   "execution_count": 9,
   "metadata": {},
   "outputs": [
    {
     "data": {
      "text/html": [
       "<div>\n",
       "<style scoped>\n",
       "    .dataframe tbody tr th:only-of-type {\n",
       "        vertical-align: middle;\n",
       "    }\n",
       "\n",
       "    .dataframe tbody tr th {\n",
       "        vertical-align: top;\n",
       "    }\n",
       "\n",
       "    .dataframe thead th {\n",
       "        text-align: right;\n",
       "    }\n",
       "</style>\n",
       "<table border=\"1\" class=\"dataframe\">\n",
       "  <thead>\n",
       "    <tr style=\"text-align: right;\">\n",
       "      <th></th>\n",
       "      <th>event_type</th>\n",
       "      <th>selected_level</th>\n",
       "      <th>start_time</th>\n",
       "      <th>user_id</th>\n",
       "      <th>event_id</th>\n",
       "      <th>purchase_start_time</th>\n",
       "      <th>amount</th>\n",
       "      <th>purchase_id</th>\n",
       "      <th>timedelta</th>\n",
       "    </tr>\n",
       "  </thead>\n",
       "  <tbody>\n",
       "    <tr>\n",
       "      <td>0</td>\n",
       "      <td>level_choice</td>\n",
       "      <td>easy</td>\n",
       "      <td>2017-01-04 16:18:39</td>\n",
       "      <td>27884</td>\n",
       "      <td>80488</td>\n",
       "      <td>2017-01-08 19:37:34</td>\n",
       "      <td>150</td>\n",
       "      <td>16854</td>\n",
       "      <td>4 days 03:18:55</td>\n",
       "    </tr>\n",
       "    <tr>\n",
       "      <td>1</td>\n",
       "      <td>level_choice</td>\n",
       "      <td>easy</td>\n",
       "      <td>2017-01-09 21:34:23</td>\n",
       "      <td>28090</td>\n",
       "      <td>81064</td>\n",
       "      <td>2017-01-15 23:42:55</td>\n",
       "      <td>100</td>\n",
       "      <td>16873</td>\n",
       "      <td>6 days 02:08:32</td>\n",
       "    </tr>\n",
       "    <tr>\n",
       "      <td>2</td>\n",
       "      <td>level_choice</td>\n",
       "      <td>easy</td>\n",
       "      <td>2017-01-11 18:44:45</td>\n",
       "      <td>28182</td>\n",
       "      <td>81472</td>\n",
       "      <td>2017-01-12 02:46:01</td>\n",
       "      <td>200</td>\n",
       "      <td>16865</td>\n",
       "      <td>0 days 08:01:16</td>\n",
       "    </tr>\n",
       "    <tr>\n",
       "      <td>3</td>\n",
       "      <td>level_choice</td>\n",
       "      <td>easy</td>\n",
       "      <td>2017-01-11 21:10:51</td>\n",
       "      <td>28207</td>\n",
       "      <td>81513</td>\n",
       "      <td>2017-01-12 21:00:24</td>\n",
       "      <td>150</td>\n",
       "      <td>16867</td>\n",
       "      <td>0 days 23:49:33</td>\n",
       "    </tr>\n",
       "    <tr>\n",
       "      <td>4</td>\n",
       "      <td>level_choice</td>\n",
       "      <td>easy</td>\n",
       "      <td>2017-01-12 16:48:24</td>\n",
       "      <td>28254</td>\n",
       "      <td>81660</td>\n",
       "      <td>2017-01-19 22:08:40</td>\n",
       "      <td>50</td>\n",
       "      <td>16892</td>\n",
       "      <td>7 days 05:20:16</td>\n",
       "    </tr>\n",
       "  </tbody>\n",
       "</table>\n",
       "</div>"
      ],
      "text/plain": [
       "     event_type selected_level          start_time  user_id  event_id  \\\n",
       "0  level_choice           easy 2017-01-04 16:18:39    27884     80488   \n",
       "1  level_choice           easy 2017-01-09 21:34:23    28090     81064   \n",
       "2  level_choice           easy 2017-01-11 18:44:45    28182     81472   \n",
       "3  level_choice           easy 2017-01-11 21:10:51    28207     81513   \n",
       "4  level_choice           easy 2017-01-12 16:48:24    28254     81660   \n",
       "\n",
       "  purchase_start_time  amount  purchase_id       timedelta  \n",
       "0 2017-01-08 19:37:34     150        16854 4 days 03:18:55  \n",
       "1 2017-01-15 23:42:55     100        16873 6 days 02:08:32  \n",
       "2 2017-01-12 02:46:01     200        16865 0 days 08:01:16  \n",
       "3 2017-01-12 21:00:24     150        16867 0 days 23:49:33  \n",
       "4 2017-01-19 22:08:40      50        16892 7 days 05:20:16  "
      ]
     },
     "execution_count": 9,
     "metadata": {},
     "output_type": "execute_result"
    }
   ],
   "source": [
    "users_easy_df = users_easy_df.merge(purchase_df, how = 'inner', on = 'user_id')\n",
    "users_easy_df['timedelta'] = users_easy_df['purchase_start_time'] - users_easy_df['start_time']\n",
    "users_easy_df.head()"
   ]
  },
  {
   "cell_type": "code",
   "execution_count": 10,
   "metadata": {},
   "outputs": [
    {
     "name": "stdout",
     "output_type": "stream",
     "text": [
      "Процент пользователей, оплативших тренировки: 7.72%\n",
      "Средний чек: 114.95\n",
      "Среднее время между выбором сложности и оплатой: 3 days 14:58:52.941798\n"
     ]
    }
   ],
   "source": [
    "users_easy_purchase_count = users_easy_df[users_easy_df['amount'] > 0]['user_id'].nunique()\n",
    "percent_purchase_easy_users = users_easy_purchase_count / users_easy_count\n",
    "print('Процент пользователей, оплативших тренировки: {:.2%}'.format(percent_purchase_easy_users))\n",
    "print('Средний чек: {:.5}'.format(users_easy_df['amount'].mean()))\n",
    "print('Среднее время между выбором сложности и оплатой: ' + str(users_easy_df['timedelta'].mean()))"
   ]
  },
  {
   "cell_type": "markdown",
   "metadata": {},
   "source": [
    "#### Пользователи, выбравшие \"medium\" уровень"
   ]
  },
  {
   "cell_type": "code",
   "execution_count": 11,
   "metadata": {},
   "outputs": [],
   "source": [
    "users_medium_df = events_df[events_df['selected_level'] == 'medium']"
   ]
  },
  {
   "cell_type": "code",
   "execution_count": 12,
   "metadata": {},
   "outputs": [
    {
     "name": "stdout",
     "output_type": "stream",
     "text": [
      "Количество пользователей: 4645\n"
     ]
    }
   ],
   "source": [
    "users_medium_count = users_medium_df['user_id'].nunique()\n",
    "print('Количество пользователей: ' + str(users_medium_count))"
   ]
  },
  {
   "cell_type": "code",
   "execution_count": 13,
   "metadata": {},
   "outputs": [
    {
     "data": {
      "text/html": [
       "<div>\n",
       "<style scoped>\n",
       "    .dataframe tbody tr th:only-of-type {\n",
       "        vertical-align: middle;\n",
       "    }\n",
       "\n",
       "    .dataframe tbody tr th {\n",
       "        vertical-align: top;\n",
       "    }\n",
       "\n",
       "    .dataframe thead th {\n",
       "        text-align: right;\n",
       "    }\n",
       "</style>\n",
       "<table border=\"1\" class=\"dataframe\">\n",
       "  <thead>\n",
       "    <tr style=\"text-align: right;\">\n",
       "      <th></th>\n",
       "      <th>event_type</th>\n",
       "      <th>selected_level</th>\n",
       "      <th>start_time</th>\n",
       "      <th>user_id</th>\n",
       "      <th>event_id</th>\n",
       "      <th>purchase_start_time</th>\n",
       "      <th>amount</th>\n",
       "      <th>purchase_id</th>\n",
       "      <th>timedelta</th>\n",
       "    </tr>\n",
       "  </thead>\n",
       "  <tbody>\n",
       "    <tr>\n",
       "      <td>0</td>\n",
       "      <td>level_choice</td>\n",
       "      <td>medium</td>\n",
       "      <td>2017-01-07 05:29:30</td>\n",
       "      <td>27973</td>\n",
       "      <td>80745</td>\n",
       "      <td>2017-01-13 21:50:00</td>\n",
       "      <td>150</td>\n",
       "      <td>16869</td>\n",
       "      <td>6 days 16:20:30</td>\n",
       "    </tr>\n",
       "    <tr>\n",
       "      <td>1</td>\n",
       "      <td>level_choice</td>\n",
       "      <td>medium</td>\n",
       "      <td>2017-01-07 10:46:14</td>\n",
       "      <td>27981</td>\n",
       "      <td>80761</td>\n",
       "      <td>2017-01-07 23:20:25</td>\n",
       "      <td>50</td>\n",
       "      <td>16852</td>\n",
       "      <td>0 days 12:34:11</td>\n",
       "    </tr>\n",
       "    <tr>\n",
       "      <td>2</td>\n",
       "      <td>level_choice</td>\n",
       "      <td>medium</td>\n",
       "      <td>2017-01-08 00:00:52</td>\n",
       "      <td>28010</td>\n",
       "      <td>80840</td>\n",
       "      <td>2017-01-10 05:32:47</td>\n",
       "      <td>50</td>\n",
       "      <td>16858</td>\n",
       "      <td>2 days 05:31:55</td>\n",
       "    </tr>\n",
       "    <tr>\n",
       "      <td>3</td>\n",
       "      <td>level_choice</td>\n",
       "      <td>medium</td>\n",
       "      <td>2017-01-08 14:47:35</td>\n",
       "      <td>28020</td>\n",
       "      <td>80885</td>\n",
       "      <td>2017-01-11 21:43:03</td>\n",
       "      <td>50</td>\n",
       "      <td>16863</td>\n",
       "      <td>3 days 06:55:28</td>\n",
       "    </tr>\n",
       "    <tr>\n",
       "      <td>4</td>\n",
       "      <td>level_choice</td>\n",
       "      <td>medium</td>\n",
       "      <td>2017-01-08 17:06:39</td>\n",
       "      <td>28033</td>\n",
       "      <td>80900</td>\n",
       "      <td>2017-01-16 05:08:41</td>\n",
       "      <td>100</td>\n",
       "      <td>16874</td>\n",
       "      <td>7 days 12:02:02</td>\n",
       "    </tr>\n",
       "  </tbody>\n",
       "</table>\n",
       "</div>"
      ],
      "text/plain": [
       "     event_type selected_level          start_time  user_id  event_id  \\\n",
       "0  level_choice         medium 2017-01-07 05:29:30    27973     80745   \n",
       "1  level_choice         medium 2017-01-07 10:46:14    27981     80761   \n",
       "2  level_choice         medium 2017-01-08 00:00:52    28010     80840   \n",
       "3  level_choice         medium 2017-01-08 14:47:35    28020     80885   \n",
       "4  level_choice         medium 2017-01-08 17:06:39    28033     80900   \n",
       "\n",
       "  purchase_start_time  amount  purchase_id       timedelta  \n",
       "0 2017-01-13 21:50:00     150        16869 6 days 16:20:30  \n",
       "1 2017-01-07 23:20:25      50        16852 0 days 12:34:11  \n",
       "2 2017-01-10 05:32:47      50        16858 2 days 05:31:55  \n",
       "3 2017-01-11 21:43:03      50        16863 3 days 06:55:28  \n",
       "4 2017-01-16 05:08:41     100        16874 7 days 12:02:02  "
      ]
     },
     "execution_count": 13,
     "metadata": {},
     "output_type": "execute_result"
    }
   ],
   "source": [
    "users_medium_df = users_medium_df.merge(purchase_df, how = 'inner', on = 'user_id')\n",
    "users_medium_df['timedelta'] = users_medium_df['purchase_start_time'] - users_medium_df['start_time']\n",
    "users_medium_df.head()"
   ]
  },
  {
   "cell_type": "code",
   "execution_count": 14,
   "metadata": {},
   "outputs": [
    {
     "name": "stdout",
     "output_type": "stream",
     "text": [
      "Процент пользователей, оплативших тренировки: 20.86%\n",
      "Средний чек: 109.52\n",
      "Среднее время между выбором сложности и оплатой: 3 days 23:14:13.165118\n"
     ]
    }
   ],
   "source": [
    "users_medium_purchase_count = users_medium_df[users_medium_df['amount'] > 0]['user_id'].nunique()\n",
    "percent_purchase_medium_users = users_medium_purchase_count / users_medium_count\n",
    "print('Процент пользователей, оплативших тренировки: {:.2%}'.format(percent_purchase_medium_users))\n",
    "print('Средний чек: {:.5}'.format(users_medium_df['amount'].mean()))\n",
    "print('Среднее время между выбором сложности и оплатой: ' + str(users_medium_df['timedelta'].mean()))"
   ]
  },
  {
   "cell_type": "markdown",
   "metadata": {},
   "source": [
    "#### Пользователи, выбравшие \"hard\" уровень"
   ]
  },
  {
   "cell_type": "code",
   "execution_count": 15,
   "metadata": {},
   "outputs": [],
   "source": [
    "users_hard_df = events_df[events_df['selected_level'] == 'hard']"
   ]
  },
  {
   "cell_type": "code",
   "execution_count": 16,
   "metadata": {},
   "outputs": [
    {
     "name": "stdout",
     "output_type": "stream",
     "text": [
      "Количество пользователей: 1249\n"
     ]
    }
   ],
   "source": [
    "users_hard_count = users_hard_df['user_id'].nunique()\n",
    "print('Количество пользователей: ' + str(users_hard_count))"
   ]
  },
  {
   "cell_type": "code",
   "execution_count": 17,
   "metadata": {},
   "outputs": [
    {
     "data": {
      "text/html": [
       "<div>\n",
       "<style scoped>\n",
       "    .dataframe tbody tr th:only-of-type {\n",
       "        vertical-align: middle;\n",
       "    }\n",
       "\n",
       "    .dataframe tbody tr th {\n",
       "        vertical-align: top;\n",
       "    }\n",
       "\n",
       "    .dataframe thead th {\n",
       "        text-align: right;\n",
       "    }\n",
       "</style>\n",
       "<table border=\"1\" class=\"dataframe\">\n",
       "  <thead>\n",
       "    <tr style=\"text-align: right;\">\n",
       "      <th></th>\n",
       "      <th>event_type</th>\n",
       "      <th>selected_level</th>\n",
       "      <th>start_time</th>\n",
       "      <th>user_id</th>\n",
       "      <th>event_id</th>\n",
       "      <th>purchase_start_time</th>\n",
       "      <th>amount</th>\n",
       "      <th>purchase_id</th>\n",
       "      <th>timedelta</th>\n",
       "    </tr>\n",
       "  </thead>\n",
       "  <tbody>\n",
       "    <tr>\n",
       "      <td>0</td>\n",
       "      <td>level_choice</td>\n",
       "      <td>hard</td>\n",
       "      <td>2017-01-02 06:19:18</td>\n",
       "      <td>27845</td>\n",
       "      <td>80346</td>\n",
       "      <td>2017-01-03 18:53:43</td>\n",
       "      <td>100</td>\n",
       "      <td>16845</td>\n",
       "      <td>1 days 12:34:25</td>\n",
       "    </tr>\n",
       "    <tr>\n",
       "      <td>1</td>\n",
       "      <td>level_choice</td>\n",
       "      <td>hard</td>\n",
       "      <td>2017-01-04 05:56:32</td>\n",
       "      <td>27865</td>\n",
       "      <td>80459</td>\n",
       "      <td>2017-01-04 14:46:10</td>\n",
       "      <td>250</td>\n",
       "      <td>16846</td>\n",
       "      <td>0 days 08:49:38</td>\n",
       "    </tr>\n",
       "    <tr>\n",
       "      <td>2</td>\n",
       "      <td>level_choice</td>\n",
       "      <td>hard</td>\n",
       "      <td>2017-01-05 11:59:50</td>\n",
       "      <td>27910</td>\n",
       "      <td>80545</td>\n",
       "      <td>2017-01-07 12:11:34</td>\n",
       "      <td>100</td>\n",
       "      <td>16849</td>\n",
       "      <td>2 days 00:11:44</td>\n",
       "    </tr>\n",
       "    <tr>\n",
       "      <td>3</td>\n",
       "      <td>level_choice</td>\n",
       "      <td>hard</td>\n",
       "      <td>2017-01-05 17:39:02</td>\n",
       "      <td>27911</td>\n",
       "      <td>80572</td>\n",
       "      <td>2017-01-07 08:19:12</td>\n",
       "      <td>50</td>\n",
       "      <td>16848</td>\n",
       "      <td>1 days 14:40:10</td>\n",
       "    </tr>\n",
       "    <tr>\n",
       "      <td>4</td>\n",
       "      <td>level_choice</td>\n",
       "      <td>hard</td>\n",
       "      <td>2017-01-06 00:32:47</td>\n",
       "      <td>27940</td>\n",
       "      <td>80620</td>\n",
       "      <td>2017-01-07 13:16:41</td>\n",
       "      <td>200</td>\n",
       "      <td>16850</td>\n",
       "      <td>1 days 12:43:54</td>\n",
       "    </tr>\n",
       "  </tbody>\n",
       "</table>\n",
       "</div>"
      ],
      "text/plain": [
       "     event_type selected_level          start_time  user_id  event_id  \\\n",
       "0  level_choice           hard 2017-01-02 06:19:18    27845     80346   \n",
       "1  level_choice           hard 2017-01-04 05:56:32    27865     80459   \n",
       "2  level_choice           hard 2017-01-05 11:59:50    27910     80545   \n",
       "3  level_choice           hard 2017-01-05 17:39:02    27911     80572   \n",
       "4  level_choice           hard 2017-01-06 00:32:47    27940     80620   \n",
       "\n",
       "  purchase_start_time  amount  purchase_id       timedelta  \n",
       "0 2017-01-03 18:53:43     100        16845 1 days 12:34:25  \n",
       "1 2017-01-04 14:46:10     250        16846 0 days 08:49:38  \n",
       "2 2017-01-07 12:11:34     100        16849 2 days 00:11:44  \n",
       "3 2017-01-07 08:19:12      50        16848 1 days 14:40:10  \n",
       "4 2017-01-07 13:16:41     200        16850 1 days 12:43:54  "
      ]
     },
     "execution_count": 17,
     "metadata": {},
     "output_type": "execute_result"
    }
   ],
   "source": [
    "users_hard_df = users_hard_df.merge(purchase_df, how = 'inner', on = 'user_id')\n",
    "users_hard_df['timedelta'] = users_hard_df['purchase_start_time'] - users_hard_df['start_time']\n",
    "users_hard_df.head()"
   ]
  },
  {
   "cell_type": "code",
   "execution_count": 18,
   "metadata": {},
   "outputs": [
    {
     "name": "stdout",
     "output_type": "stream",
     "text": [
      "Процент пользователей, оплативших тренировки: 35.39%\n",
      "Средний чек: 111.6\n",
      "Среднее время между выбором сложности и оплатой: 3 days 07:20:41.420814\n"
     ]
    }
   ],
   "source": [
    "users_hard_purchase_count = users_hard_df[users_hard_df['amount'] > 0]['user_id'].nunique()\n",
    "percent_purchase_hard_users = users_hard_purchase_count / users_hard_count\n",
    "print('Процент пользователей, оплативших тренировки: {:.2%}'.format(percent_purchase_hard_users))\n",
    "print('Средний чек: {:.5}'.format(users_hard_df['amount'].mean()))\n",
    "print('Среднее время между выбором сложности и оплатой: ' + str(users_hard_df['timedelta'].mean()))"
   ]
  },
  {
   "cell_type": "markdown",
   "metadata": {},
   "source": [
    "### Анализ групп"
   ]
  },
  {
   "cell_type": "markdown",
   "metadata": {},
   "source": [
    "#### Пользователи, выбравшие \"easy\" уровень"
   ]
  },
  {
   "cell_type": "code",
   "execution_count": 19,
   "metadata": {},
   "outputs": [
    {
     "name": "stdout",
     "output_type": "stream",
     "text": [
      "Процент пользователей, оплативших тренировки: 7.72%\n",
      "Средний чек: 114.95\n",
      "Среднее время между выбором сложности и оплатой: 3 days 14:58:52.941798\n"
     ]
    }
   ],
   "source": [
    "print('Процент пользователей, оплативших тренировки: {:.2%}'.format(percent_purchase_easy_users))\n",
    "print('Средний чек: {:.5}'.format(users_easy_df['amount'].mean()))\n",
    "print('Среднее время между выбором сложности и оплатой: ' + str(users_easy_df['timedelta'].mean()))"
   ]
  },
  {
   "cell_type": "markdown",
   "metadata": {},
   "source": [
    "#### Пользователи, выбравшие \"medium\" уровень"
   ]
  },
  {
   "cell_type": "code",
   "execution_count": 20,
   "metadata": {},
   "outputs": [
    {
     "name": "stdout",
     "output_type": "stream",
     "text": [
      "Процент пользователей, оплативших тренировки: 20.86%\n",
      "Средний чек: 109.52\n",
      "Среднее время между выбором сложности и оплатой: 3 days 23:14:13.165118\n"
     ]
    }
   ],
   "source": [
    "print('Процент пользователей, оплативших тренировки: {:.2%}'.format(percent_purchase_medium_users))\n",
    "print('Средний чек: {:.5}'.format(users_medium_df['amount'].mean()))\n",
    "print('Среднее время между выбором сложности и оплатой: ' + str(users_medium_df['timedelta'].mean()))"
   ]
  },
  {
   "cell_type": "markdown",
   "metadata": {},
   "source": [
    "#### Пользователи, выбравшие \"hard\" уровень"
   ]
  },
  {
   "cell_type": "code",
   "execution_count": 21,
   "metadata": {},
   "outputs": [
    {
     "name": "stdout",
     "output_type": "stream",
     "text": [
      "Процент пользователей, оплативших тренировки: 35.39%\n",
      "Средний чек: 111.6\n",
      "Среднее время между выбором сложности и оплатой: 3 days 07:20:41.420814\n"
     ]
    }
   ],
   "source": [
    "print('Процент пользователей, оплативших тренировки: {:.2%}'.format(percent_purchase_hard_users))\n",
    "print('Средний чек: {:.5}'.format(users_hard_df['amount'].mean()))\n",
    "print('Среднее время между выбором сложности и оплатой: ' + str(users_hard_df['timedelta'].mean()))"
   ]
  },
  {
   "cell_type": "markdown",
   "metadata": {},
   "source": [
    "### Выводы:\n",
    "1. Имеется зависимость между процентами оплаты по пользователям, выбравшим соответствующий уровень тренировок: чем выше сложность, тем выше процент оплаты, возможно, это связано с большей заинтересованностью продвинутого пользователя, а не с низким качеством материала тренировок уровня \"easy\".\n",
    "2. Средний чек колеблется между группами незначительно.\n",
    "3. Среднее время между выбором сложности и оплатой также колеблется незначительно, составляет ~ 3 дня."
   ]
  },
  {
   "cell_type": "code",
   "execution_count": null,
   "metadata": {},
   "outputs": [],
   "source": []
  }
 ],
 "metadata": {
  "kernelspec": {
   "display_name": "Python 3",
   "language": "python",
   "name": "python3"
  },
  "language_info": {
   "codemirror_mode": {
    "name": "ipython",
    "version": 3
   },
   "file_extension": ".py",
   "mimetype": "text/x-python",
   "name": "python",
   "nbconvert_exporter": "python",
   "pygments_lexer": "ipython3",
   "version": "3.7.4"
  }
 },
 "nbformat": 4,
 "nbformat_minor": 2
}
